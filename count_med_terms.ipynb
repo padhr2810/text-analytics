{
 "cells": [
  {
   "cell_type": "code",
   "execution_count": null,
   "metadata": {
    "collapsed": true
   },
   "outputs": [],
   "source": [
    "from IPython.core.interactiveshell import InteractiveShell\n",
    "InteractiveShell.ast_node_interactivity = \"all\"\n",
    "\n",
    "import spacy\n",
    "import re\n",
    "import os\n",
    "import nltk\n",
    "\n"
   ]
  },
  {
   "cell_type": "markdown",
   "metadata": {},
   "source": [
    "#### Create placeholders for results"
   ]
  },
  {
   "cell_type": "code",
   "execution_count": null,
   "metadata": {
    "collapsed": true
   },
   "outputs": [],
   "source": [
    "clin_concepts_set = []\n",
    "clin_classes_set_prelim  = []\n",
    "\n",
    "### Aggregate mentions of clinical concept (i.e. 1 number per consultation)\n",
    "clin_concepts_number_per_consultation = {}\n",
    "\n",
    "### Aggregate mentions of each clinical classification (separately) (i.e. >1 number per consultation)\n",
    "clin_classes_type_number_per_consultation = {}"
   ]
  },
  {
   "cell_type": "markdown",
   "metadata": {},
   "source": [
    "#### Create a dictionary linking each clinical concept to its classification"
   ]
  },
  {
   "cell_type": "code",
   "execution_count": null,
   "metadata": {
    "collapsed": true
   },
   "outputs": [],
   "source": [
    "%run -i  create_clin_concepts_dict.py\n",
    "\n",
    "print(\"Number of concepts removed: {}\".format(num_concepts_to_remove))\n",
    "\n",
    "print(\"Original length of clin concepts dictionary: {}\".format(original_len_clin_concepts_dict))\n",
    "print(\"Revised length of clin concepts dictionary: {}\".format(len(clin_concepts_dict)))\n",
    "\n",
    "clin_concepts_dict"
   ]
  },
  {
   "cell_type": "markdown",
   "metadata": {},
   "source": [
    "### Prepare the tokeniser"
   ]
  },
  {
   "cell_type": "code",
   "execution_count": null,
   "metadata": {
    "collapsed": true
   },
   "outputs": [],
   "source": [
    "%run -i sentiment_tokenize.py\n"
   ]
  },
  {
   "cell_type": "markdown",
   "metadata": {},
   "source": [
    "### Create list of all classes (for dictionary of count of classes)"
   ]
  },
  {
   "cell_type": "code",
   "execution_count": null,
   "metadata": {
    "collapsed": true
   },
   "outputs": [],
   "source": [
    "list_classes = ['BIOSUB',\n",
    "    'BODYLOC',\n",
    "    'BODYMEAS',\n",
    "    'DDF',\n",
    "    'DIAGPROC',\n",
    "    'DISORDER',\n",
    "    'DOSEUNIT',\n",
    "    'DRT',\n",
    "    'DRUG',\n",
    "    'FREQ',\n",
    "    'LABTEST',\n",
    "    'NUM',\n",
    "    'PROBLEM',\n",
    "    'THERPROCDEV',\n",
    "    'TK',\n",
    "    'TOD',\n",
    "    'TUNIT',\n",
    "    'UNIT',\n",
    "    'RUT']\n",
    "    "
   ]
  },
  {
   "cell_type": "markdown",
   "metadata": {},
   "source": [
    "### START LOOP HERE - OVER EACH TRANSCRIPT SEPARATELY"
   ]
  },
  {
   "cell_type": "code",
   "execution_count": null,
   "metadata": {
    "collapsed": true
   },
   "outputs": [],
   "source": [
    "counter = 0\n",
    "folder  = \"sentiment_text_data\"\n",
    "\n",
    "number_of_files = len(os.listdir(folder))\n",
    "print(\"Number of files in the directory: {}\".format(number_of_files))\n",
    "\n",
    "while counter < number_of_files:\n",
    "    \n",
    "    ### print file name and number:\n",
    "    file = os.listdir(folder)[counter]\n",
    "    print()\n",
    "    print(\"File number: {}\".format(counter + 1))\n",
    "    print(\"File name: {}\".format(file))\n",
    "    print()\n",
    "    \n",
    "    ### tokenise\n",
    "    tokens = open_and_tokenize(counter, folder)\n",
    "    type(tokens)\n",
    "\n",
    "    ### Dictionary to count no. times each class occurs.(will insert into \"clin_classes_type_number_per_consultation\" for every consultation)\n",
    "    count_each_class_type = {}\n",
    "    for x in list_classes:\n",
    "        count_each_class_type[x] = 0\n",
    "    \n",
    "    # XXX - just so it runs quickly during development.\n",
    "    # my_text_strings = tokens[0:400]\n",
    "    my_text_strings = tokens\n",
    "    \n",
    "    ### placeholders for results (separate for each consultation)\n",
    "    classifications_length = 0\n",
    "    concepts_length        = 0\n",
    "    all_classifications_consultation_prelim = []\n",
    "\n",
    "    ### counter for the \"for\" loop over each token below\n",
    "    token_number = 1\n",
    "\n",
    "    ### loop over each token\n",
    "    for mystring in my_text_strings:\n",
    "        \n",
    "        ### store the class & concept (if the token is a \"clinical concept\")\n",
    "        classifications_consultation = [value for key, value in clin_concepts_dict.items() if mystring == key.lower()]\n",
    "        concepts_consultation        = [key for key, value in clin_concepts_dict.items() if mystring == key.lower()]       \n",
    "\n",
    "        ### add to the master set of concepts / classes across all transcripts.\n",
    "        clin_classes_set_prelim.extend(classifications_consultation)    \n",
    "        clin_concepts_set.extend(concepts_consultation)\n",
    "            # by using \"extend\", each item added is a STRING. if use \"append\", an item added at the end \n",
    "            # would be a full list (could not use \"set\" on it)\n",
    "\n",
    "        ### update the number of clinical concepts per consultation\n",
    "        classifications_length += len(classifications_consultation)\n",
    "        concepts_length        += len(concepts_consultation)\n",
    "        \n",
    "        ### add the \"classification\" (e.g. treatment / problem) to the list of classifications for the specific transcript\n",
    "        if classifications_consultation !=  []:\n",
    "            all_classifications_consultation_prelim.extend(classifications_consultation)\n",
    "        \n",
    "        ### just a simple progress indicator for the token loop\n",
    "        if token_number % 200 == 0:\n",
    "            print(\"Progress tracking: File number {}, Token number {} (of a total of {} tokens)\".format(counter+1, token_number, len(tokens)))\n",
    "        \n",
    "        ### and back to start of token loop\n",
    "        token_number += 1\n",
    "    \n",
    "    \n",
    "    print(\"\")\n",
    "    print(\"all_classifications_consultation_prelim: before split on hyphen\")\n",
    "    print(all_classifications_consultation_prelim[0:50])\n",
    "\n",
    "    ### some tokens have multiple classes (e.g. \"treatment-problem\") - split on the hyphen to account for each class separately.\n",
    "    all_classifications_consultation_prelim  = [i.split('-', 10)[:] for i in all_classifications_consultation_prelim]\n",
    "\n",
    "    ### check that the split occurred ok and nothing is missing.\n",
    "    print(\"\")\n",
    "    print(\"all_classifications_consultation_prelim: after split on hyphen\")\n",
    "    all_classifications_consultation_prelim[0:50]\n",
    "\n",
    "    ### the final container for the classes for a consultation (i.e. put it in the right List form)\n",
    "    all_classifications_consultation_final = []\n",
    "    for x in all_classifications_consultation_prelim:\n",
    "        all_classifications_consultation_final.extend(x)\n",
    "    ### just show the first 20 (this confirms the content and the appropriate object type)\n",
    "    all_classifications_consultation_final[0:20]\n",
    "\n",
    "    ### put info from list into Dictionary format (for this particular consultation)\n",
    "    for x in all_classifications_consultation_final:\n",
    "        count_each_class_type[x] +=1 \n",
    "    print()\n",
    "    print(\"count_each_class_type: i.e. the dictionary containing the number of each class for a consultation\")\n",
    "    count_each_class_type\n",
    "        \n",
    "        \n",
    "    print()\n",
    "    print(\"classifications_length: for one transcript\")\n",
    "    classifications_length\n",
    "    print()\n",
    "    print(\"concepts_length: for one transcript\")\n",
    "    concepts_length\n",
    "    \n",
    "        ## number of times any clinical concept mentioned: add to master dictionary for all transcripts\n",
    "    clin_concepts_number_per_consultation[str(counter+1)] = concepts_length\n",
    "        ## number of times each type of clinical classification mentioned: add to master dictionary for all transcripts\n",
    "    clin_classes_type_number_per_consultation[str(counter+1)] = count_each_class_type\n",
    "    \n",
    "    counter  +=  1\n"
   ]
  },
  {
   "cell_type": "markdown",
   "metadata": {},
   "source": [
    "### After loop -  look at results."
   ]
  },
  {
   "cell_type": "code",
   "execution_count": null,
   "metadata": {
    "collapsed": true
   },
   "outputs": [],
   "source": [
    "type(clin_classes_set_prelim)\n",
    "\n",
    "### get rid of duplicates\n",
    "clin_classes_set_prelim = set(clin_classes_set_prelim)\n",
    "\n",
    "### put in format for splitting on hyphens (i.e. some tokens have multiple classes attached - account for them separately)\n",
    "clin_classes_set_prelim = list(clin_classes_set_prelim)\n",
    "print(\"\")\n",
    "print(\"Preliminary\")\n",
    "clin_classes_set_prelim\n",
    "\n",
    "clin_classes_set_prelim = [i.split('-', 10)[:] for i in clin_classes_set_prelim]\n",
    "\n",
    "clin_classes_set_final  = []\n",
    "for x in clin_classes_set_prelim:\n",
    "    clin_classes_set_final.extend(x)\n",
    "\n",
    "print(\"\")\n",
    "print(\"Final\")\n",
    "## Set\n",
    "clin_classes_set_final  =  set(clin_classes_set_final)\n",
    "clin_classes_set_final"
   ]
  },
  {
   "cell_type": "code",
   "execution_count": null,
   "metadata": {
    "collapsed": true
   },
   "outputs": [],
   "source": [
    "## Set\n",
    "clin_concepts_set =  set(clin_concepts_set)\n",
    "\n",
    "print(\"clin_classes_set\")\n",
    "clin_classes_set_final\n",
    "\n",
    "print(\"Number of clinical concepts per consultation\")\n",
    "clin_concepts_number_per_consultation\n",
    "\n",
    "print(\"How many times each classification appeared in each transcript\")\n",
    "clin_classes_type_number_per_consultation\n",
    "\n",
    "print(\"clin_concepts_set\")\n",
    "clin_concepts_set\n",
    "print()"
   ]
  }
 ],
 "metadata": {
  "kernelspec": {
   "display_name": "Python 3",
   "language": "python",
   "name": "python3"
  },
  "language_info": {
   "codemirror_mode": {
    "name": "ipython",
    "version": 3
   },
   "file_extension": ".py",
   "mimetype": "text/x-python",
   "name": "python",
   "nbconvert_exporter": "python",
   "pygments_lexer": "ipython3",
   "version": "3.6.2"
  }
 },
 "nbformat": 4,
 "nbformat_minor": 2
}
