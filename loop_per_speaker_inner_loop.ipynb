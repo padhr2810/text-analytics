{
 "cells": [
  {
   "cell_type": "markdown",
   "metadata": {},
   "source": [
    "# This covers (per speaker): 1: part of speech. 2: active / passive voice. 3: positive and negative sentiment"
   ]
  },
  {
   "cell_type": "markdown",
   "metadata": {},
   "source": [
    "## Part of speech"
   ]
  },
  {
   "cell_type": "code",
   "execution_count": null,
   "metadata": {},
   "outputs": [],
   "source": [
    "\n",
    "pos_doc = nlp(str(my_text_strings))\n",
    "\n",
    "\n",
    "pos_verb_count              = 0\n",
    "pos_personal_pronoun_count  = 0\n",
    "pos_adverb_count            = 0\n",
    "pos_adjective_count         = 0\n",
    "\n",
    "for word in pos_doc:\n",
    "    if word.tag_ == ('VBD'):\n",
    "        pos_verb_count    +=  1\n",
    "    if word.tag_ == ('PRP'):\n",
    "        pos_personal_pronoun_count +=  1\n",
    "    if word.tag_ == ('RB'):\n",
    "        pos_adverb_count      +=  1\n",
    "    if word.tag_ == ('JJ'):\n",
    "        pos_adjective_count      +=  1\n",
    "     \n",
    "per_speaker['pos_verb_count'][number_consult][speaker_id]               = pos_verb_count\n",
    "per_speaker['pos_personal_pronoun_count'][number_consult][speaker_id]   = pos_personal_pronoun_count\n",
    "per_speaker['pos_adverb_count'][number_consult][speaker_id]             = pos_adverb_count\n",
    "per_speaker['pos_adjective_count'][number_consult][speaker_id]          = pos_adjective_count"
   ]
  },
  {
   "cell_type": "markdown",
   "metadata": {},
   "source": [
    "## active / passive voice"
   ]
  },
  {
   "cell_type": "code",
   "execution_count": null,
   "metadata": {
    "collapsed": true
   },
   "outputs": [],
   "source": [
    "nsubj_count = 0\n",
    "nsubjpass_count = 0\n",
    "\n",
    "for word in pos_doc:\n",
    "    if word.dep_ == ('nsubj'):\n",
    "        nsubj_count  += 1\n",
    "\n",
    "for word in pos_doc:\n",
    "    if word.dep_ == ('nsubjpass'):\n",
    "        nsubjpass_count   += 1\n",
    "\n",
    "per_speaker['active_count'][number_consult][speaker_id]  =  nsubj_count\n",
    "per_speaker['passive_count'][number_consult][speaker_id]  =  nsubjpass_count\n",
    "\n"
   ]
  },
  {
   "cell_type": "markdown",
   "metadata": {},
   "source": [
    "## positive and negative sentiment "
   ]
  },
  {
   "cell_type": "code",
   "execution_count": null,
   "metadata": {
    "collapsed": true
   },
   "outputs": [],
   "source": [
    "\"\"\"\n",
    "1. REQUIREMENT = LIST OF ALL WORDS TO CONSIDER.\n",
    "    insert this list of words (i.e. 'my_text_strings') (instead of 'tokens')\n",
    "\"\"\"\n",
    "\n",
    "positive_num = 0\n",
    "negative_num = 0\n",
    "\n",
    "for p in positive:\n",
    "    positive_num += my_text_strings.count(p)\n",
    "\n",
    "for n in negative:\n",
    "    negative_num += my_text_strings.count(n)\n",
    "\n",
    "per_speaker['positive_sentiment_count'][number_consult][speaker_id]    = positive_num\n",
    "per_speaker['negative_sentiment_count'][number_consult][speaker_id]    = negative_num\n",
    "\n"
   ]
  }
 ],
 "metadata": {
  "kernelspec": {
   "display_name": "Python 3",
   "language": "python",
   "name": "python3"
  },
  "language_info": {
   "codemirror_mode": {
    "name": "ipython",
    "version": 3
   },
   "file_extension": ".py",
   "mimetype": "text/x-python",
   "name": "python",
   "nbconvert_exporter": "python",
   "pygments_lexer": "ipython3",
   "version": "3.6.2"
  }
 },
 "nbformat": 4,
 "nbformat_minor": 2
}
