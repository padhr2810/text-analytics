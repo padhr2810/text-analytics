{
 "cells": [
  {
   "cell_type": "markdown",
   "metadata": {},
   "source": [
    "    \n",
    "# LIST POSITIVE SENTIMENT WORDS"
   ]
  },
  {
   "cell_type": "code",
   "execution_count": 4,
   "metadata": {},
   "outputs": [
    {
     "data": {
      "text/plain": [
       "'principal'"
      ]
     },
     "execution_count": 4,
     "metadata": {},
     "output_type": "execute_result"
    }
   ],
   "source": [
    "### use the General Inquirer Basic spreadsheet\n",
    "### include all positiv and pstv words\n",
    "### remove everything after \"#\" symbols, by clicking: Data // Text to columns // # delimiter\n",
    "\n",
    "\n",
    "book = xlrd.open_workbook(\"GI_positiv_plus3.xls\")\n",
    "sheet = book.sheet_by_index(0)\n",
    "\n",
    "positive = []\n",
    "\n",
    "    \n",
    "for k in range(1,sheet.nrows):\n",
    "    positive.append(str(sheet.row_values(k)[1-1]))\n",
    "    \n",
    "positive\n",
    "\n",
    "positive = [x.lower() for x in positive]\n",
    "positive\n",
    "\n",
    "positive = set(positive)\n",
    "positive = list(positive)\n",
    "positive[0:5]"
   ]
  },
  {
   "cell_type": "markdown",
   "metadata": {},
   "source": [
    "# LIST NEGATIVE SENTIMENT WORDS"
   ]
  },
  {
   "cell_type": "code",
   "execution_count": 5,
   "metadata": {
    "collapsed": true
   },
   "outputs": [],
   "source": [
    "### use the General Inquirer Basic spreadsheet\n",
    "### include all negativ and ngtv words\n",
    "### remove everything after \"#\" symbols, by clicking: Data // Text to columns // # delimiter\n",
    "\n",
    "book = xlrd.open_workbook(\"GI_negativ_plus2.xls\")\n",
    "sheet = book.sheet_by_index(0)\n",
    "\n",
    "negative = []\n",
    "\n",
    "for k in range(1,sheet.nrows):\n",
    "    negative.append(str(sheet.row_values(k)[1-1]))\n",
    "\n",
    "negative = [x.lower() for x in negative]\n",
    "\n",
    "negative\n",
    "\n",
    "negative = set(negative)\n",
    "negative = list(negative)"
   ]
  },
  {
   "cell_type": "code",
   "execution_count": 7,
   "metadata": {},
   "outputs": [
    {
     "data": {
      "text/plain": [
       "['rigorous', 'assail', 'spank', 'futility', 'stubborn']"
      ]
     },
     "execution_count": 7,
     "metadata": {},
     "output_type": "execute_result"
    }
   ],
   "source": [
    "negative[0:5]"
   ]
  },
  {
   "cell_type": "code",
   "execution_count": null,
   "metadata": {
    "collapsed": true
   },
   "outputs": [],
   "source": []
  }
 ],
 "metadata": {
  "anaconda-cloud": {},
  "kernelspec": {
   "display_name": "Python 3",
   "language": "python",
   "name": "python3"
  },
  "language_info": {
   "codemirror_mode": {
    "name": "ipython",
    "version": 3
   },
   "file_extension": ".py",
   "mimetype": "text/x-python",
   "name": "python",
   "nbconvert_exporter": "python",
   "pygments_lexer": "ipython3",
   "version": "3.6.2"
  }
 },
 "nbformat": 4,
 "nbformat_minor": 1
}
