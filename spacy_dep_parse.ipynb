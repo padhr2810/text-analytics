{
 "cells": [
  {
   "cell_type": "code",
   "execution_count": null,
   "metadata": {
    "collapsed": true
   },
   "outputs": [],
   "source": [
    "from IPython.core.interactiveshell import InteractiveShell\n",
    "InteractiveShell.ast_node_interactivity = \"all\"\n",
    "\n",
    "import spacy\n",
    "nlp = spacy.load('en')\n",
    "# doc = nlp(\"I cured the illness. The illness was cured by me. A red cup. I ran quickly.\")\n",
    "doc = nlp(str(tokens))\n",
    "\n",
    "def flatten_subtree(st):\n",
    "    return ''.join([w.text_with_ws for w in list(st)]).strip()"
   ]
  },
  {
   "cell_type": "code",
   "execution_count": null,
   "metadata": {
    "collapsed": true
   },
   "outputs": [],
   "source": [
    "\n",
    "# dict1\n",
    "dep_parse_master  = {}\n",
    "\n",
    "# dict2\n",
    "dep_parse_consultation = {}\n",
    "\n",
    "\n",
    "###################################################################  Active:\n",
    "nsubj_subjects = []\n",
    "nsubj_count    = 0\n",
    "for word in doc:\n",
    "    if word.dep_ == ('nsubj'):\n",
    "        nsubj_count += 1\n",
    "        nsubj_subjects.append(flatten_subtree(word.subtree))\n",
    "nsubj_subjects\n",
    "nsubj_count\n",
    "\n",
    "###################################################################  Passive:\n",
    "nsubjpass_subjects = []\n",
    "nsubjpass_count = 0\n",
    "for word in doc:\n",
    "    if word.dep_ == ('nsubjpass'):\n",
    "        nsubjpass_count += 1\n",
    "        nsubjpass_subjects.append(flatten_subtree(word.subtree))\n",
    "nsubjpass_subjects\n",
    "nsubjpass_count\n",
    "\n",
    "################################################################### Add results to \"dep_parse_consultation\" dictionary:\n",
    "# dep_parse_consultation[\"nsubj_subjects\"]  = set(nsubj_subjects)\n",
    "# dep_parse_consultation[\"nsubjpass_subjects\"]  = set(nsubjpass_subjects)\n",
    "dep_parse_consultation[\"nsubj_count\"]  =     nsubj_count\n",
    "dep_parse_consultation[\"nsubjpass_count\"]  = nsubjpass_count\n",
    "\n",
    "dep_parse_consultation"
   ]
  }
 ],
 "metadata": {
  "kernelspec": {
   "display_name": "Python 3",
   "language": "python",
   "name": "python3"
  },
  "language_info": {
   "codemirror_mode": {
    "name": "ipython",
    "version": 3
   },
   "file_extension": ".py",
   "mimetype": "text/x-python",
   "name": "python",
   "nbconvert_exporter": "python",
   "pygments_lexer": "ipython3",
   "version": "3.6.2"
  }
 },
 "nbformat": 4,
 "nbformat_minor": 2
}
